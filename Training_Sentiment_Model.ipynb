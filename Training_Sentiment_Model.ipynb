{
  "nbformat": 4,
  "nbformat_minor": 0,
  "metadata": {
    "colab": {
      "provenance": []
    },
    "kernelspec": {
      "name": "python3",
      "display_name": "Python 3"
    },
    "language_info": {
      "name": "python"
    }
  },
  "cells": [
    {
      "cell_type": "markdown",
      "source": [
        "# Importing Modules and Loading Data"
      ],
      "metadata": {
        "id": "cFCyKoUaPFge"
      }
    },
    {
      "cell_type": "code",
      "execution_count": 1,
      "metadata": {
        "id": "YS8eZH4CPA_0"
      },
      "outputs": [],
      "source": [
        "import pandas as pd\n",
        "from sklearn.model_selection import train_test_split, cross_val_score\n",
        "from sklearn.feature_extraction.text import TfidfVectorizer\n",
        "from sklearn.naive_bayes import MultinomialNB\n",
        "from sklearn.metrics import accuracy_score, classification_report\n",
        "from sklearn.model_selection import StratifiedKFold"
      ]
    },
    {
      "cell_type": "code",
      "source": [
        "from sklearn.linear_model import LogisticRegression"
      ],
      "metadata": {
        "id": "O2sj26YvBz3D"
      },
      "execution_count": 2,
      "outputs": []
    },
    {
      "cell_type": "code",
      "source": [
        "from sklearn.model_selection import GridSearchCV"
      ],
      "metadata": {
        "id": "Lj1pd3ch6YFc"
      },
      "execution_count": 3,
      "outputs": []
    },
    {
      "cell_type": "code",
      "source": [
        "from sklearn.svm import SVC"
      ],
      "metadata": {
        "id": "A06Dh9SW7vyn"
      },
      "execution_count": 4,
      "outputs": []
    },
    {
      "cell_type": "code",
      "source": [
        "import re"
      ],
      "metadata": {
        "id": "ukvb8M0AyDvW"
      },
      "execution_count": 5,
      "outputs": []
    },
    {
      "cell_type": "code",
      "source": [
        "df_st = pd.read_csv('IMDB Dataset.csv')"
      ],
      "metadata": {
        "id": "7cu-61DgPgsj"
      },
      "execution_count": 6,
      "outputs": []
    },
    {
      "cell_type": "code",
      "source": [
        "df_st"
      ],
      "metadata": {
        "colab": {
          "base_uri": "https://localhost:8080/",
          "height": 424
        },
        "id": "Xg9UJBWTP4gg",
        "outputId": "ee11785e-7e80-49e8-c8ed-084623680f4c"
      },
      "execution_count": 7,
      "outputs": [
        {
          "output_type": "execute_result",
          "data": {
            "text/plain": [
              "                                                  review sentiment\n",
              "0      One of the other reviewers has mentioned that ...  positive\n",
              "1      A wonderful little production. <br /><br />The...  positive\n",
              "2      I thought this was a wonderful way to spend ti...  positive\n",
              "3      Basically there's a family where a little boy ...  negative\n",
              "4      Petter Mattei's \"Love in the Time of Money\" is...  positive\n",
              "...                                                  ...       ...\n",
              "49995  I thought this movie did a down right good job...  positive\n",
              "49996  Bad plot, bad dialogue, bad acting, idiotic di...  negative\n",
              "49997  I am a Catholic taught in parochial elementary...  negative\n",
              "49998  I'm going to have to disagree with the previou...  negative\n",
              "49999  No one expects the Star Trek movies to be high...  negative\n",
              "\n",
              "[50000 rows x 2 columns]"
            ],
            "text/html": [
              "\n",
              "  <div id=\"df-0e92a001-8ac0-465d-95b2-d384812b3257\" class=\"colab-df-container\">\n",
              "    <div>\n",
              "<style scoped>\n",
              "    .dataframe tbody tr th:only-of-type {\n",
              "        vertical-align: middle;\n",
              "    }\n",
              "\n",
              "    .dataframe tbody tr th {\n",
              "        vertical-align: top;\n",
              "    }\n",
              "\n",
              "    .dataframe thead th {\n",
              "        text-align: right;\n",
              "    }\n",
              "</style>\n",
              "<table border=\"1\" class=\"dataframe\">\n",
              "  <thead>\n",
              "    <tr style=\"text-align: right;\">\n",
              "      <th></th>\n",
              "      <th>review</th>\n",
              "      <th>sentiment</th>\n",
              "    </tr>\n",
              "  </thead>\n",
              "  <tbody>\n",
              "    <tr>\n",
              "      <th>0</th>\n",
              "      <td>One of the other reviewers has mentioned that ...</td>\n",
              "      <td>positive</td>\n",
              "    </tr>\n",
              "    <tr>\n",
              "      <th>1</th>\n",
              "      <td>A wonderful little production. &lt;br /&gt;&lt;br /&gt;The...</td>\n",
              "      <td>positive</td>\n",
              "    </tr>\n",
              "    <tr>\n",
              "      <th>2</th>\n",
              "      <td>I thought this was a wonderful way to spend ti...</td>\n",
              "      <td>positive</td>\n",
              "    </tr>\n",
              "    <tr>\n",
              "      <th>3</th>\n",
              "      <td>Basically there's a family where a little boy ...</td>\n",
              "      <td>negative</td>\n",
              "    </tr>\n",
              "    <tr>\n",
              "      <th>4</th>\n",
              "      <td>Petter Mattei's \"Love in the Time of Money\" is...</td>\n",
              "      <td>positive</td>\n",
              "    </tr>\n",
              "    <tr>\n",
              "      <th>...</th>\n",
              "      <td>...</td>\n",
              "      <td>...</td>\n",
              "    </tr>\n",
              "    <tr>\n",
              "      <th>49995</th>\n",
              "      <td>I thought this movie did a down right good job...</td>\n",
              "      <td>positive</td>\n",
              "    </tr>\n",
              "    <tr>\n",
              "      <th>49996</th>\n",
              "      <td>Bad plot, bad dialogue, bad acting, idiotic di...</td>\n",
              "      <td>negative</td>\n",
              "    </tr>\n",
              "    <tr>\n",
              "      <th>49997</th>\n",
              "      <td>I am a Catholic taught in parochial elementary...</td>\n",
              "      <td>negative</td>\n",
              "    </tr>\n",
              "    <tr>\n",
              "      <th>49998</th>\n",
              "      <td>I'm going to have to disagree with the previou...</td>\n",
              "      <td>negative</td>\n",
              "    </tr>\n",
              "    <tr>\n",
              "      <th>49999</th>\n",
              "      <td>No one expects the Star Trek movies to be high...</td>\n",
              "      <td>negative</td>\n",
              "    </tr>\n",
              "  </tbody>\n",
              "</table>\n",
              "<p>50000 rows × 2 columns</p>\n",
              "</div>\n",
              "    <div class=\"colab-df-buttons\">\n",
              "\n",
              "  <div class=\"colab-df-container\">\n",
              "    <button class=\"colab-df-convert\" onclick=\"convertToInteractive('df-0e92a001-8ac0-465d-95b2-d384812b3257')\"\n",
              "            title=\"Convert this dataframe to an interactive table.\"\n",
              "            style=\"display:none;\">\n",
              "\n",
              "  <svg xmlns=\"http://www.w3.org/2000/svg\" height=\"24px\" viewBox=\"0 -960 960 960\">\n",
              "    <path d=\"M120-120v-720h720v720H120Zm60-500h600v-160H180v160Zm220 220h160v-160H400v160Zm0 220h160v-160H400v160ZM180-400h160v-160H180v160Zm440 0h160v-160H620v160ZM180-180h160v-160H180v160Zm440 0h160v-160H620v160Z\"/>\n",
              "  </svg>\n",
              "    </button>\n",
              "\n",
              "  <style>\n",
              "    .colab-df-container {\n",
              "      display:flex;\n",
              "      gap: 12px;\n",
              "    }\n",
              "\n",
              "    .colab-df-convert {\n",
              "      background-color: #E8F0FE;\n",
              "      border: none;\n",
              "      border-radius: 50%;\n",
              "      cursor: pointer;\n",
              "      display: none;\n",
              "      fill: #1967D2;\n",
              "      height: 32px;\n",
              "      padding: 0 0 0 0;\n",
              "      width: 32px;\n",
              "    }\n",
              "\n",
              "    .colab-df-convert:hover {\n",
              "      background-color: #E2EBFA;\n",
              "      box-shadow: 0px 1px 2px rgba(60, 64, 67, 0.3), 0px 1px 3px 1px rgba(60, 64, 67, 0.15);\n",
              "      fill: #174EA6;\n",
              "    }\n",
              "\n",
              "    .colab-df-buttons div {\n",
              "      margin-bottom: 4px;\n",
              "    }\n",
              "\n",
              "    [theme=dark] .colab-df-convert {\n",
              "      background-color: #3B4455;\n",
              "      fill: #D2E3FC;\n",
              "    }\n",
              "\n",
              "    [theme=dark] .colab-df-convert:hover {\n",
              "      background-color: #434B5C;\n",
              "      box-shadow: 0px 1px 3px 1px rgba(0, 0, 0, 0.15);\n",
              "      filter: drop-shadow(0px 1px 2px rgba(0, 0, 0, 0.3));\n",
              "      fill: #FFFFFF;\n",
              "    }\n",
              "  </style>\n",
              "\n",
              "    <script>\n",
              "      const buttonEl =\n",
              "        document.querySelector('#df-0e92a001-8ac0-465d-95b2-d384812b3257 button.colab-df-convert');\n",
              "      buttonEl.style.display =\n",
              "        google.colab.kernel.accessAllowed ? 'block' : 'none';\n",
              "\n",
              "      async function convertToInteractive(key) {\n",
              "        const element = document.querySelector('#df-0e92a001-8ac0-465d-95b2-d384812b3257');\n",
              "        const dataTable =\n",
              "          await google.colab.kernel.invokeFunction('convertToInteractive',\n",
              "                                                    [key], {});\n",
              "        if (!dataTable) return;\n",
              "\n",
              "        const docLinkHtml = 'Like what you see? Visit the ' +\n",
              "          '<a target=\"_blank\" href=https://colab.research.google.com/notebooks/data_table.ipynb>data table notebook</a>'\n",
              "          + ' to learn more about interactive tables.';\n",
              "        element.innerHTML = '';\n",
              "        dataTable['output_type'] = 'display_data';\n",
              "        await google.colab.output.renderOutput(dataTable, element);\n",
              "        const docLink = document.createElement('div');\n",
              "        docLink.innerHTML = docLinkHtml;\n",
              "        element.appendChild(docLink);\n",
              "      }\n",
              "    </script>\n",
              "  </div>\n",
              "\n",
              "\n",
              "<div id=\"df-8b7abd97-37ca-4ff2-9b43-b0b019d7c723\">\n",
              "  <button class=\"colab-df-quickchart\" onclick=\"quickchart('df-8b7abd97-37ca-4ff2-9b43-b0b019d7c723')\"\n",
              "            title=\"Suggest charts\"\n",
              "            style=\"display:none;\">\n",
              "\n",
              "<svg xmlns=\"http://www.w3.org/2000/svg\" height=\"24px\"viewBox=\"0 0 24 24\"\n",
              "     width=\"24px\">\n",
              "    <g>\n",
              "        <path d=\"M19 3H5c-1.1 0-2 .9-2 2v14c0 1.1.9 2 2 2h14c1.1 0 2-.9 2-2V5c0-1.1-.9-2-2-2zM9 17H7v-7h2v7zm4 0h-2V7h2v10zm4 0h-2v-4h2v4z\"/>\n",
              "    </g>\n",
              "</svg>\n",
              "  </button>\n",
              "\n",
              "<style>\n",
              "  .colab-df-quickchart {\n",
              "      --bg-color: #E8F0FE;\n",
              "      --fill-color: #1967D2;\n",
              "      --hover-bg-color: #E2EBFA;\n",
              "      --hover-fill-color: #174EA6;\n",
              "      --disabled-fill-color: #AAA;\n",
              "      --disabled-bg-color: #DDD;\n",
              "  }\n",
              "\n",
              "  [theme=dark] .colab-df-quickchart {\n",
              "      --bg-color: #3B4455;\n",
              "      --fill-color: #D2E3FC;\n",
              "      --hover-bg-color: #434B5C;\n",
              "      --hover-fill-color: #FFFFFF;\n",
              "      --disabled-bg-color: #3B4455;\n",
              "      --disabled-fill-color: #666;\n",
              "  }\n",
              "\n",
              "  .colab-df-quickchart {\n",
              "    background-color: var(--bg-color);\n",
              "    border: none;\n",
              "    border-radius: 50%;\n",
              "    cursor: pointer;\n",
              "    display: none;\n",
              "    fill: var(--fill-color);\n",
              "    height: 32px;\n",
              "    padding: 0;\n",
              "    width: 32px;\n",
              "  }\n",
              "\n",
              "  .colab-df-quickchart:hover {\n",
              "    background-color: var(--hover-bg-color);\n",
              "    box-shadow: 0 1px 2px rgba(60, 64, 67, 0.3), 0 1px 3px 1px rgba(60, 64, 67, 0.15);\n",
              "    fill: var(--button-hover-fill-color);\n",
              "  }\n",
              "\n",
              "  .colab-df-quickchart-complete:disabled,\n",
              "  .colab-df-quickchart-complete:disabled:hover {\n",
              "    background-color: var(--disabled-bg-color);\n",
              "    fill: var(--disabled-fill-color);\n",
              "    box-shadow: none;\n",
              "  }\n",
              "\n",
              "  .colab-df-spinner {\n",
              "    border: 2px solid var(--fill-color);\n",
              "    border-color: transparent;\n",
              "    border-bottom-color: var(--fill-color);\n",
              "    animation:\n",
              "      spin 1s steps(1) infinite;\n",
              "  }\n",
              "\n",
              "  @keyframes spin {\n",
              "    0% {\n",
              "      border-color: transparent;\n",
              "      border-bottom-color: var(--fill-color);\n",
              "      border-left-color: var(--fill-color);\n",
              "    }\n",
              "    20% {\n",
              "      border-color: transparent;\n",
              "      border-left-color: var(--fill-color);\n",
              "      border-top-color: var(--fill-color);\n",
              "    }\n",
              "    30% {\n",
              "      border-color: transparent;\n",
              "      border-left-color: var(--fill-color);\n",
              "      border-top-color: var(--fill-color);\n",
              "      border-right-color: var(--fill-color);\n",
              "    }\n",
              "    40% {\n",
              "      border-color: transparent;\n",
              "      border-right-color: var(--fill-color);\n",
              "      border-top-color: var(--fill-color);\n",
              "    }\n",
              "    60% {\n",
              "      border-color: transparent;\n",
              "      border-right-color: var(--fill-color);\n",
              "    }\n",
              "    80% {\n",
              "      border-color: transparent;\n",
              "      border-right-color: var(--fill-color);\n",
              "      border-bottom-color: var(--fill-color);\n",
              "    }\n",
              "    90% {\n",
              "      border-color: transparent;\n",
              "      border-bottom-color: var(--fill-color);\n",
              "    }\n",
              "  }\n",
              "</style>\n",
              "\n",
              "  <script>\n",
              "    async function quickchart(key) {\n",
              "      const quickchartButtonEl =\n",
              "        document.querySelector('#' + key + ' button');\n",
              "      quickchartButtonEl.disabled = true;  // To prevent multiple clicks.\n",
              "      quickchartButtonEl.classList.add('colab-df-spinner');\n",
              "      try {\n",
              "        const charts = await google.colab.kernel.invokeFunction(\n",
              "            'suggestCharts', [key], {});\n",
              "      } catch (error) {\n",
              "        console.error('Error during call to suggestCharts:', error);\n",
              "      }\n",
              "      quickchartButtonEl.classList.remove('colab-df-spinner');\n",
              "      quickchartButtonEl.classList.add('colab-df-quickchart-complete');\n",
              "    }\n",
              "    (() => {\n",
              "      let quickchartButtonEl =\n",
              "        document.querySelector('#df-8b7abd97-37ca-4ff2-9b43-b0b019d7c723 button');\n",
              "      quickchartButtonEl.style.display =\n",
              "        google.colab.kernel.accessAllowed ? 'block' : 'none';\n",
              "    })();\n",
              "  </script>\n",
              "</div>\n",
              "\n",
              "  <div id=\"id_393412a5-2aea-4e2a-ba84-53d7475aed9c\">\n",
              "    <style>\n",
              "      .colab-df-generate {\n",
              "        background-color: #E8F0FE;\n",
              "        border: none;\n",
              "        border-radius: 50%;\n",
              "        cursor: pointer;\n",
              "        display: none;\n",
              "        fill: #1967D2;\n",
              "        height: 32px;\n",
              "        padding: 0 0 0 0;\n",
              "        width: 32px;\n",
              "      }\n",
              "\n",
              "      .colab-df-generate:hover {\n",
              "        background-color: #E2EBFA;\n",
              "        box-shadow: 0px 1px 2px rgba(60, 64, 67, 0.3), 0px 1px 3px 1px rgba(60, 64, 67, 0.15);\n",
              "        fill: #174EA6;\n",
              "      }\n",
              "\n",
              "      [theme=dark] .colab-df-generate {\n",
              "        background-color: #3B4455;\n",
              "        fill: #D2E3FC;\n",
              "      }\n",
              "\n",
              "      [theme=dark] .colab-df-generate:hover {\n",
              "        background-color: #434B5C;\n",
              "        box-shadow: 0px 1px 3px 1px rgba(0, 0, 0, 0.15);\n",
              "        filter: drop-shadow(0px 1px 2px rgba(0, 0, 0, 0.3));\n",
              "        fill: #FFFFFF;\n",
              "      }\n",
              "    </style>\n",
              "    <button class=\"colab-df-generate\" onclick=\"generateWithVariable('df_st')\"\n",
              "            title=\"Generate code using this dataframe.\"\n",
              "            style=\"display:none;\">\n",
              "\n",
              "  <svg xmlns=\"http://www.w3.org/2000/svg\" height=\"24px\"viewBox=\"0 0 24 24\"\n",
              "       width=\"24px\">\n",
              "    <path d=\"M7,19H8.4L18.45,9,17,7.55,7,17.6ZM5,21V16.75L18.45,3.32a2,2,0,0,1,2.83,0l1.4,1.43a1.91,1.91,0,0,1,.58,1.4,1.91,1.91,0,0,1-.58,1.4L9.25,21ZM18.45,9,17,7.55Zm-12,3A5.31,5.31,0,0,0,4.9,8.1,5.31,5.31,0,0,0,1,6.5,5.31,5.31,0,0,0,4.9,4.9,5.31,5.31,0,0,0,6.5,1,5.31,5.31,0,0,0,8.1,4.9,5.31,5.31,0,0,0,12,6.5,5.46,5.46,0,0,0,6.5,12Z\"/>\n",
              "  </svg>\n",
              "    </button>\n",
              "    <script>\n",
              "      (() => {\n",
              "      const buttonEl =\n",
              "        document.querySelector('#id_393412a5-2aea-4e2a-ba84-53d7475aed9c button.colab-df-generate');\n",
              "      buttonEl.style.display =\n",
              "        google.colab.kernel.accessAllowed ? 'block' : 'none';\n",
              "\n",
              "      buttonEl.onclick = () => {\n",
              "        google.colab.notebook.generateWithVariable('df_st');\n",
              "      }\n",
              "      })();\n",
              "    </script>\n",
              "  </div>\n",
              "\n",
              "    </div>\n",
              "  </div>\n"
            ],
            "application/vnd.google.colaboratory.intrinsic+json": {
              "type": "dataframe",
              "variable_name": "df_st",
              "summary": "{\n  \"name\": \"df_st\",\n  \"rows\": 50000,\n  \"fields\": [\n    {\n      \"column\": \"review\",\n      \"properties\": {\n        \"dtype\": \"string\",\n        \"num_unique_values\": 49582,\n        \"samples\": [\n          \"\\\"Soul Plane\\\" is a horrible attempt at comedy that only should appeal people with thick skulls, bloodshot eyes and furry pawns. <br /><br />The plot is not only incoherent but also non-existent, acting is mostly sub sub-par with a gang of highly moronic and dreadful characters thrown in for bad measure, jokes are often spotted miles ahead and almost never even a bit amusing. This movie lacks any structure and is full of racial stereotypes that must have seemed old even in the fifties, the only thing it really has going for it is some pretty ladies, but really, if you want that you can rent something from the \\\"Adult\\\" section. OK?<br /><br />I can hardly see anything here to recommend since you'll probably have a lot a better and productive time chasing rats with a sledgehammer or inventing waterproof teabags or whatever.<br /><br />2/10\",\n          \"Guest from the Future tells a fascinating story of time travel, friendship, battle of good and evil -- all with a small budget, child actors, and few special effects. Something for Spielberg and Lucas to learn from. ;) A sixth-grader Kolya \\\"Nick\\\" Gerasimov finds a time machine in the basement of a decrepit building and travels 100 years into the future. He discovers a near-perfect, utopian society where robots play guitars and write poetry, everyone is kind to each other and people enjoy everything technology has to offer. Alice is the daughter of a prominent scientist who invented a device called Mielophone that allows to read minds of humans and animals. The device can be put to both good and bad use, depending on whose hands it falls into. When two evil space pirates from Saturn who want to rule the universe attempt to steal Mielophone, it falls into the hands of 20th century school boy Nick. With the pirates hot on his tracks, he travels back to his time, followed by the pirates, and Alice. Chaos, confusion and funny situations follow as the luckless pirates try to blend in with the earthlings. Alice enrolls in the same school Nick goes to and demonstrates superhuman abilities in PE class. The catch is, Alice doesn't know what Nick looks like, while the pirates do. Also, the pirates are able to change their appearance and turn literally into anyone. (Hmm, I wonder if this is where James Cameron got the idea for Terminator...) Who gets to Nick -- and Mielophone -- first? Excellent plot, non-stop adventures, and great soundtrack. I wish Hollywood made kid movies like this one...\",\n          \"\\\"National Treasure\\\" (2004) is a thoroughly misguided hodge-podge of plot entanglements that borrow from nearly every cloak and dagger government conspiracy clich\\u00e9 that has ever been written. The film stars Nicholas Cage as Benjamin Franklin Gates (how precious is that, I ask you?); a seemingly normal fellow who, for no other reason than being of a lineage of like-minded misguided fortune hunters, decides to steal a 'national treasure' that has been hidden by the United States founding fathers. After a bit of subtext and background that plays laughably (unintentionally) like Indiana Jones meets The Patriot, the film degenerates into one misguided whimsy after another \\u0096 attempting to create a 'Stanley Goodspeed' regurgitation of Nicholas Cage and launch the whole convoluted mess forward with a series of high octane, but disconnected misadventures.<br /><br />The relevancy and logic to having George Washington and his motley crew of patriots burying a king's ransom someplace on native soil, and then, going through the meticulous plan of leaving clues scattered throughout U.S. currency art work, is something that director Jon Turteltaub never quite gets around to explaining. Couldn't Washington found better usage for such wealth during the start up of the country? Hence, we are left with a mystery built on top of an enigma that is already on shaky ground by the time Ben appoints himself the new custodian of this untold wealth. Ben's intentions are noble \\u0096 if confusing. He's set on protecting the treasure. For who and when?\\u0085your guess is as good as mine.<br /><br />But there are a few problems with Ben's crusade. First up, his friend, Ian Holmes (Sean Bean) decides that he can't wait for Ben to make up his mind about stealing the Declaration of Independence from the National Archives (oh, yeah \\u0096 brilliant idea!). Presumably, the back of that famous document holds the secret answer to the ultimate fortune. So Ian tries to kill Ben. The assassination attempt is, of course, unsuccessful, if overly melodramatic. It also affords Ben the opportunity to pick up, and pick on, the very sultry curator of the archives, Abigail Chase (Diane Kruger). She thinks Ben is clearly a nut \\u0096 at least at the beginning. But true to action/romance form, Abby's resolve melts quicker than you can say, \\\"is that the Hope Diamond?\\\" The film moves into full X-File-ish mode, as the FBI, mistakenly believing that Ben is behind the theft, retaliate in various benign ways that lead to a multi-layering of action sequences reminiscent of Mission Impossible meets The Fugitive. Honestly, don't those guys ever get 'intelligence' information that is correct? In the final analysis, \\\"National Treasure\\\" isn't great film making, so much as it's a patchwork rehash of tired old bits from other movies, woven together from scraps, the likes of which would make IL' Betsy Ross blush.<br /><br />The Buena Vista DVD delivers a far more generous treatment than this film is deserving of. The anamorphic widescreen picture exhibits a very smooth and finely detailed image with very rich colors, natural flesh tones, solid blacks and clean whites. The stylized image is also free of blemishes and digital enhancements. The audio is 5.1 and delivers a nice sonic boom to your side and rear speakers with intensity and realism. Extras include a host of promotional junket material that is rather deep and over the top in its explanation of how and why this film was made. If only, as an audience, we had had more clarification as to why Ben and co. were chasing after an illusive treasure, this might have been one good flick. Extras conclude with the theatrical trailer, audio commentary and deleted scenes. Not for the faint-hearted \\u0096 just the thick-headed.\"\n        ],\n        \"semantic_type\": \"\",\n        \"description\": \"\"\n      }\n    },\n    {\n      \"column\": \"sentiment\",\n      \"properties\": {\n        \"dtype\": \"category\",\n        \"num_unique_values\": 2,\n        \"samples\": [\n          \"negative\",\n          \"positive\"\n        ],\n        \"semantic_type\": \"\",\n        \"description\": \"\"\n      }\n    }\n  ]\n}"
            }
          },
          "metadata": {},
          "execution_count": 7
        }
      ]
    },
    {
      "cell_type": "code",
      "source": [
        "df_st['review'] = df_st['review'].str.replace('<br /><br />', '', regex=False)"
      ],
      "metadata": {
        "id": "SNBsxLqRP885"
      },
      "execution_count": 8,
      "outputs": []
    },
    {
      "cell_type": "code",
      "source": [
        "def remove(text):\n",
        "    return re.sub(r'\\d+', '', text)\n",
        "\n",
        "df_st['review'] = df_st['review'].apply(remove)"
      ],
      "metadata": {
        "id": "iGbxZWZywX4X"
      },
      "execution_count": 9,
      "outputs": []
    },
    {
      "cell_type": "code",
      "source": [
        "print(df_st.head(25))"
      ],
      "metadata": {
        "colab": {
          "base_uri": "https://localhost:8080/"
        },
        "id": "_aJuAoTkQ8-L",
        "outputId": "2a7bf3b6-a61c-4da6-ef2f-74e687c3970b"
      },
      "execution_count": 10,
      "outputs": [
        {
          "output_type": "stream",
          "name": "stdout",
          "text": [
            "                                               review sentiment\n",
            "0   One of the other reviewers has mentioned that ...  positive\n",
            "1   A wonderful little production. The filming tec...  positive\n",
            "2   I thought this was a wonderful way to spend ti...  positive\n",
            "3   Basically there's a family where a little boy ...  negative\n",
            "4   Petter Mattei's \"Love in the Time of Money\" is...  positive\n",
            "5   Probably my all-time favorite movie, a story o...  positive\n",
            "6   I sure would like to see a resurrection of a u...  positive\n",
            "7   This show was an amazing, fresh & innovative i...  negative\n",
            "8   Encouraged by the positive comments about this...  negative\n",
            "9   If you like original gut wrenching laughter yo...  positive\n",
            "10  Phil the Alien is one of those quirky films wh...  negative\n",
            "11  I saw this movie when I was about  when it cam...  negative\n",
            "12  So im not a big fan of Boll's work but then ag...  negative\n",
            "13  The cast played Shakespeare.Shakespeare lost.I...  negative\n",
            "14  This a fantastic movie of three prisoners who ...  positive\n",
            "15  Kind of drawn in by the erotic scenes, only to...  negative\n",
            "16  Some films just simply should not be remade. T...  positive\n",
            "17  This movie made it into one of my top  most aw...  negative\n",
            "18  I remember this film,it was the first film i h...  positive\n",
            "19  An awful film! It must have been up against so...  negative\n",
            "20  After the success of Die Hard and it's sequels...  positive\n",
            "21  I had the terrible misfortune of having to vie...  negative\n",
            "22  What an absolutely stunning movie, if you have...  positive\n",
            "23  First of all, let's get a few things straight ...  negative\n",
            "24  This was the worst movie I saw at WorldFest an...  negative\n"
          ]
        }
      ]
    },
    {
      "cell_type": "markdown",
      "source": [
        "# Checking Class Distribution"
      ],
      "metadata": {
        "id": "YwWNrVFhViyY"
      }
    },
    {
      "cell_type": "code",
      "source": [
        "class_distribution = df_st['sentiment'].value_counts()"
      ],
      "metadata": {
        "id": "h9eacpJdUTiJ"
      },
      "execution_count": 11,
      "outputs": []
    },
    {
      "cell_type": "code",
      "source": [
        "print(\"Class Distribution:\")\n",
        "print(class_distribution)"
      ],
      "metadata": {
        "colab": {
          "base_uri": "https://localhost:8080/"
        },
        "id": "NNLyoL7RVtMc",
        "outputId": "89220e2c-bc87-47ad-d3e2-fad5e4d62e70"
      },
      "execution_count": 12,
      "outputs": [
        {
          "output_type": "stream",
          "name": "stdout",
          "text": [
            "Class Distribution:\n",
            "sentiment\n",
            "positive    25000\n",
            "negative    25000\n",
            "Name: count, dtype: int64\n"
          ]
        }
      ]
    },
    {
      "cell_type": "code",
      "source": [
        "print(df_st['review'].str.split().apply(len).sum())"
      ],
      "metadata": {
        "colab": {
          "base_uri": "https://localhost:8080/"
        },
        "id": "dod7t7Y0fQ4q",
        "outputId": "6bbc70ac-638e-448b-bbec-58d5f34ffdf6"
      },
      "execution_count": 13,
      "outputs": [
        {
          "output_type": "stream",
          "name": "stdout",
          "text": [
            "11327151\n"
          ]
        }
      ]
    },
    {
      "cell_type": "markdown",
      "source": [
        "# Training the Model"
      ],
      "metadata": {
        "id": "PHja7zHzX8fY"
      }
    },
    {
      "cell_type": "markdown",
      "source": [
        "Split the dataset into features (text) and labels (sentiment)"
      ],
      "metadata": {
        "id": "HAKKs6nkcqVM"
      }
    },
    {
      "cell_type": "code",
      "source": [
        "X = df_st['review']\n",
        "y = df_st['sentiment']"
      ],
      "metadata": {
        "id": "hCIHXPR3ctoH"
      },
      "execution_count": 14,
      "outputs": []
    },
    {
      "cell_type": "markdown",
      "source": [
        "Applying TF-IDF (Term Frequency-Inverse Document Frequency)"
      ],
      "metadata": {
        "id": "wTxzB1k6X2KC"
      }
    },
    {
      "cell_type": "code",
      "source": [
        "tfidf = TfidfVectorizer(max_features=30000, ngram_range=(1,2), stop_words='english')\n",
        "X_tfidf = tfidf.fit_transform(X)"
      ],
      "metadata": {
        "id": "KGx_vv6lWQj8"
      },
      "execution_count": 15,
      "outputs": []
    },
    {
      "cell_type": "code",
      "source": [
        "print(f\"TF-IDF feature matrix shape: {X_tfidf.shape}\")"
      ],
      "metadata": {
        "colab": {
          "base_uri": "https://localhost:8080/"
        },
        "id": "jEN7MUutda6R",
        "outputId": "547711cd-ef8c-45af-84a9-4e6a990821d8"
      },
      "execution_count": 16,
      "outputs": [
        {
          "output_type": "stream",
          "name": "stdout",
          "text": [
            "TF-IDF feature matrix shape: (50000, 30000)\n"
          ]
        }
      ]
    },
    {
      "cell_type": "code",
      "source": [
        "print(f\"Top 10 words: {tfidf.get_feature_names_out()[:100]}\")"
      ],
      "metadata": {
        "colab": {
          "base_uri": "https://localhost:8080/"
        },
        "id": "5GXAnX1liJDi",
        "outputId": "c6c4ab89-721b-493d-9ed5-6d84a323543c"
      },
      "execution_count": 17,
      "outputs": [
        {
          "output_type": "stream",
          "name": "stdout",
          "text": [
            "Top 10 words: ['aaliyah' 'aamir' 'aamir khan' 'aardman' 'aaron' 'aaron carter' 'ab'\n",
            " 'abandon' 'abandoned' 'abandoning' 'abandonment' 'abandons' 'abba'\n",
            " 'abbey' 'abbot' 'abbott' 'abbott costello' 'abby' 'abc' 'abducted'\n",
            " 'abduction' 'abe' 'abel' 'abhay' 'abiding' 'abigail' 'abilities'\n",
            " 'ability' 'ability make' 'able' 'able capture' 'able enjoy' 'able look'\n",
            " 'able make' 'able pull' 'able relate' 'able sit' 'able understand'\n",
            " 'able watch' 'ably' 'abnormal' 'aboard' 'abominable' 'abomination'\n",
            " 'aboriginal' 'aborted' 'abortion' 'abound' 'abounds' 'abraham'\n",
            " 'abraham lincoln' 'abrasive' 'abroad' 'abrupt' 'abruptly' 'absence'\n",
            " 'absent' 'absolute' 'absolute favorite' 'absolute worst' 'absolutely'\n",
            " 'absolutely amazing' 'absolutely awful' 'absolutely beautiful'\n",
            " 'absolutely brilliant' 'absolutely fantastic' 'absolutely hilarious'\n",
            " 'absolutely horrible' 'absolutely idea' 'absolutely love'\n",
            " 'absolutely loved' 'absolutely perfect' 'absolutely reason'\n",
            " 'absolutely ridiculous' 'absolutely sense' 'absolutely stunning'\n",
            " 'absolutely terrible' 'absolutely worst' 'absorb' 'absorbed' 'absorbing'\n",
            " 'abstract' 'absurd' 'absurdist' 'absurdities' 'absurdity' 'absurdly'\n",
            " 'abu' 'abundance' 'abundant' 'abuse' 'abused' 'abusing' 'abusive'\n",
            " 'abysmal' 'abysmally' 'abyss' 'academic' 'academy' 'academy award']\n"
          ]
        }
      ]
    },
    {
      "cell_type": "markdown",
      "source": [
        "Spliting (80% training, 20% testing)"
      ],
      "metadata": {
        "id": "YE_Xs2n5yx1F"
      }
    },
    {
      "cell_type": "code",
      "source": [
        "X_train, X_test, y_train, y_test = train_test_split(X_tfidf, y, test_size=0.2, random_state=42, stratify=y)"
      ],
      "metadata": {
        "id": "cKsp9ZxFy1x6"
      },
      "execution_count": 18,
      "outputs": []
    },
    {
      "cell_type": "markdown",
      "source": [
        "Model: Naive Bayes"
      ],
      "metadata": {
        "id": "M_ewjHHUzC4H"
      }
    },
    {
      "cell_type": "code",
      "source": [
        "model = MultinomialNB()\n",
        "model.fit(X_train, y_train)"
      ],
      "metadata": {
        "colab": {
          "base_uri": "https://localhost:8080/",
          "height": 75
        },
        "id": "0dyseR9bzR2c",
        "outputId": "63aa3a4e-7375-4f7c-ca45-31c519cba829"
      },
      "execution_count": 19,
      "outputs": [
        {
          "output_type": "execute_result",
          "data": {
            "text/plain": [
              "MultinomialNB()"
            ],
            "text/html": [
              "<style>#sk-container-id-1 {color: black;}#sk-container-id-1 pre{padding: 0;}#sk-container-id-1 div.sk-toggleable {background-color: white;}#sk-container-id-1 label.sk-toggleable__label {cursor: pointer;display: block;width: 100%;margin-bottom: 0;padding: 0.3em;box-sizing: border-box;text-align: center;}#sk-container-id-1 label.sk-toggleable__label-arrow:before {content: \"▸\";float: left;margin-right: 0.25em;color: #696969;}#sk-container-id-1 label.sk-toggleable__label-arrow:hover:before {color: black;}#sk-container-id-1 div.sk-estimator:hover label.sk-toggleable__label-arrow:before {color: black;}#sk-container-id-1 div.sk-toggleable__content {max-height: 0;max-width: 0;overflow: hidden;text-align: left;background-color: #f0f8ff;}#sk-container-id-1 div.sk-toggleable__content pre {margin: 0.2em;color: black;border-radius: 0.25em;background-color: #f0f8ff;}#sk-container-id-1 input.sk-toggleable__control:checked~div.sk-toggleable__content {max-height: 200px;max-width: 100%;overflow: auto;}#sk-container-id-1 input.sk-toggleable__control:checked~label.sk-toggleable__label-arrow:before {content: \"▾\";}#sk-container-id-1 div.sk-estimator input.sk-toggleable__control:checked~label.sk-toggleable__label {background-color: #d4ebff;}#sk-container-id-1 div.sk-label input.sk-toggleable__control:checked~label.sk-toggleable__label {background-color: #d4ebff;}#sk-container-id-1 input.sk-hidden--visually {border: 0;clip: rect(1px 1px 1px 1px);clip: rect(1px, 1px, 1px, 1px);height: 1px;margin: -1px;overflow: hidden;padding: 0;position: absolute;width: 1px;}#sk-container-id-1 div.sk-estimator {font-family: monospace;background-color: #f0f8ff;border: 1px dotted black;border-radius: 0.25em;box-sizing: border-box;margin-bottom: 0.5em;}#sk-container-id-1 div.sk-estimator:hover {background-color: #d4ebff;}#sk-container-id-1 div.sk-parallel-item::after {content: \"\";width: 100%;border-bottom: 1px solid gray;flex-grow: 1;}#sk-container-id-1 div.sk-label:hover label.sk-toggleable__label {background-color: #d4ebff;}#sk-container-id-1 div.sk-serial::before {content: \"\";position: absolute;border-left: 1px solid gray;box-sizing: border-box;top: 0;bottom: 0;left: 50%;z-index: 0;}#sk-container-id-1 div.sk-serial {display: flex;flex-direction: column;align-items: center;background-color: white;padding-right: 0.2em;padding-left: 0.2em;position: relative;}#sk-container-id-1 div.sk-item {position: relative;z-index: 1;}#sk-container-id-1 div.sk-parallel {display: flex;align-items: stretch;justify-content: center;background-color: white;position: relative;}#sk-container-id-1 div.sk-item::before, #sk-container-id-1 div.sk-parallel-item::before {content: \"\";position: absolute;border-left: 1px solid gray;box-sizing: border-box;top: 0;bottom: 0;left: 50%;z-index: -1;}#sk-container-id-1 div.sk-parallel-item {display: flex;flex-direction: column;z-index: 1;position: relative;background-color: white;}#sk-container-id-1 div.sk-parallel-item:first-child::after {align-self: flex-end;width: 50%;}#sk-container-id-1 div.sk-parallel-item:last-child::after {align-self: flex-start;width: 50%;}#sk-container-id-1 div.sk-parallel-item:only-child::after {width: 0;}#sk-container-id-1 div.sk-dashed-wrapped {border: 1px dashed gray;margin: 0 0.4em 0.5em 0.4em;box-sizing: border-box;padding-bottom: 0.4em;background-color: white;}#sk-container-id-1 div.sk-label label {font-family: monospace;font-weight: bold;display: inline-block;line-height: 1.2em;}#sk-container-id-1 div.sk-label-container {text-align: center;}#sk-container-id-1 div.sk-container {/* jupyter's `normalize.less` sets `[hidden] { display: none; }` but bootstrap.min.css set `[hidden] { display: none !important; }` so we also need the `!important` here to be able to override the default hidden behavior on the sphinx rendered scikit-learn.org. See: https://github.com/scikit-learn/scikit-learn/issues/21755 */display: inline-block !important;position: relative;}#sk-container-id-1 div.sk-text-repr-fallback {display: none;}</style><div id=\"sk-container-id-1\" class=\"sk-top-container\"><div class=\"sk-text-repr-fallback\"><pre>MultinomialNB()</pre><b>In a Jupyter environment, please rerun this cell to show the HTML representation or trust the notebook. <br />On GitHub, the HTML representation is unable to render, please try loading this page with nbviewer.org.</b></div><div class=\"sk-container\" hidden><div class=\"sk-item\"><div class=\"sk-estimator sk-toggleable\"><input class=\"sk-toggleable__control sk-hidden--visually\" id=\"sk-estimator-id-1\" type=\"checkbox\" checked><label for=\"sk-estimator-id-1\" class=\"sk-toggleable__label sk-toggleable__label-arrow\">MultinomialNB</label><div class=\"sk-toggleable__content\"><pre>MultinomialNB()</pre></div></div></div></div></div>"
            ]
          },
          "metadata": {},
          "execution_count": 19
        }
      ]
    },
    {
      "cell_type": "markdown",
      "source": [
        "Prediction"
      ],
      "metadata": {
        "id": "TTmEmUvVzcUc"
      }
    },
    {
      "cell_type": "code",
      "source": [
        "y_pred = model.predict(X_test)"
      ],
      "metadata": {
        "id": "A7EtpKckzeuh"
      },
      "execution_count": 20,
      "outputs": []
    },
    {
      "cell_type": "markdown",
      "source": [
        "# Evaluation of Model Performance"
      ],
      "metadata": {
        "id": "gp_DWyNvzmRe"
      }
    },
    {
      "cell_type": "code",
      "source": [
        "print(f\"Accuracy: {accuracy_score(y_test, y_pred)}\")\n",
        "print(classification_report(y_test, y_pred))"
      ],
      "metadata": {
        "colab": {
          "base_uri": "https://localhost:8080/"
        },
        "id": "PiB1Gi4M0L-r",
        "outputId": "46308bf0-7f16-4d91-e716-e69e0776509b"
      },
      "execution_count": 21,
      "outputs": [
        {
          "output_type": "stream",
          "name": "stdout",
          "text": [
            "Accuracy: 0.8757\n",
            "              precision    recall  f1-score   support\n",
            "\n",
            "    negative       0.89      0.86      0.87      5000\n",
            "    positive       0.87      0.89      0.88      5000\n",
            "\n",
            "    accuracy                           0.88     10000\n",
            "   macro avg       0.88      0.88      0.88     10000\n",
            "weighted avg       0.88      0.88      0.88     10000\n",
            "\n"
          ]
        }
      ]
    },
    {
      "cell_type": "markdown",
      "source": [
        "Cross-Validation (StratifiedKFold for balanced splits)"
      ],
      "metadata": {
        "id": "JMh6v1Ql0TcL"
      }
    },
    {
      "cell_type": "code",
      "source": [
        "skf = StratifiedKFold(n_splits=5, shuffle=True, random_state=42)\n",
        "cv_scores = cross_val_score(model, X_tfidf, y, cv=skf, scoring='accuracy')"
      ],
      "metadata": {
        "id": "RXgxSH4I0SL9"
      },
      "execution_count": 22,
      "outputs": []
    },
    {
      "cell_type": "code",
      "source": [
        "print(f\"Cross-validation accuracy scores: {cv_scores}\")\n",
        "print(f\"Mean cross-validation accuracy: {cv_scores.mean()}\")"
      ],
      "metadata": {
        "colab": {
          "base_uri": "https://localhost:8080/"
        },
        "id": "nBhbtyyg0fYx",
        "outputId": "f5cbd1fe-59ce-4695-8280-44b2e4e51a32"
      },
      "execution_count": 23,
      "outputs": [
        {
          "output_type": "stream",
          "name": "stdout",
          "text": [
            "Cross-validation accuracy scores: [0.8691 0.8802 0.8741 0.8679 0.8768]\n",
            "Mean cross-validation accuracy: 0.8736200000000001\n"
          ]
        }
      ]
    },
    {
      "cell_type": "markdown",
      "source": [
        "Hyperparameter Tuning"
      ],
      "metadata": {
        "id": "6kWDvXPS7Y32"
      }
    },
    {
      "cell_type": "code",
      "source": [
        "params = {'alpha': [0.5, 1, 2]}\n",
        "grid_search = GridSearchCV(MultinomialNB(), param_grid=params, cv=5)\n",
        "grid_search.fit(X_train, y_train)\n",
        "print(f\"Best parameters: {grid_search.best_params_}\")\n",
        "print(f\"Best cross-validation score: {grid_search.best_score_}\")"
      ],
      "metadata": {
        "id": "sVR4aLuT7bvx",
        "colab": {
          "base_uri": "https://localhost:8080/"
        },
        "outputId": "941cc476-99b5-482c-bcf0-5f90ff2fb6f0"
      },
      "execution_count": 24,
      "outputs": [
        {
          "output_type": "stream",
          "name": "stdout",
          "text": [
            "Best parameters: {'alpha': 0.5}\n",
            "Best cross-validation score: 0.8710749999999999\n"
          ]
        }
      ]
    },
    {
      "cell_type": "markdown",
      "source": [
        "# Improving Model Performance"
      ],
      "metadata": {
        "id": "DtsX_xxi7kW1"
      }
    },
    {
      "cell_type": "markdown",
      "source": [
        "Trying Different Model"
      ],
      "metadata": {
        "id": "REMx7QOkHvo2"
      }
    },
    {
      "cell_type": "markdown",
      "source": [
        "Logistic Regression:"
      ],
      "metadata": {
        "id": "JqSn0RWP-Ow6"
      }
    },
    {
      "cell_type": "code",
      "source": [
        "model_LR = LogisticRegression(max_iter=1000)\n",
        "model_LR.fit(X_train, y_train)"
      ],
      "metadata": {
        "colab": {
          "base_uri": "https://localhost:8080/",
          "height": 75
        },
        "id": "5oJgGFSgBKml",
        "outputId": "c944db69-327d-4e6c-bebb-59dc94c60616"
      },
      "execution_count": 26,
      "outputs": [
        {
          "output_type": "execute_result",
          "data": {
            "text/plain": [
              "LogisticRegression(max_iter=1000)"
            ],
            "text/html": [
              "<style>#sk-container-id-3 {color: black;}#sk-container-id-3 pre{padding: 0;}#sk-container-id-3 div.sk-toggleable {background-color: white;}#sk-container-id-3 label.sk-toggleable__label {cursor: pointer;display: block;width: 100%;margin-bottom: 0;padding: 0.3em;box-sizing: border-box;text-align: center;}#sk-container-id-3 label.sk-toggleable__label-arrow:before {content: \"▸\";float: left;margin-right: 0.25em;color: #696969;}#sk-container-id-3 label.sk-toggleable__label-arrow:hover:before {color: black;}#sk-container-id-3 div.sk-estimator:hover label.sk-toggleable__label-arrow:before {color: black;}#sk-container-id-3 div.sk-toggleable__content {max-height: 0;max-width: 0;overflow: hidden;text-align: left;background-color: #f0f8ff;}#sk-container-id-3 div.sk-toggleable__content pre {margin: 0.2em;color: black;border-radius: 0.25em;background-color: #f0f8ff;}#sk-container-id-3 input.sk-toggleable__control:checked~div.sk-toggleable__content {max-height: 200px;max-width: 100%;overflow: auto;}#sk-container-id-3 input.sk-toggleable__control:checked~label.sk-toggleable__label-arrow:before {content: \"▾\";}#sk-container-id-3 div.sk-estimator input.sk-toggleable__control:checked~label.sk-toggleable__label {background-color: #d4ebff;}#sk-container-id-3 div.sk-label input.sk-toggleable__control:checked~label.sk-toggleable__label {background-color: #d4ebff;}#sk-container-id-3 input.sk-hidden--visually {border: 0;clip: rect(1px 1px 1px 1px);clip: rect(1px, 1px, 1px, 1px);height: 1px;margin: -1px;overflow: hidden;padding: 0;position: absolute;width: 1px;}#sk-container-id-3 div.sk-estimator {font-family: monospace;background-color: #f0f8ff;border: 1px dotted black;border-radius: 0.25em;box-sizing: border-box;margin-bottom: 0.5em;}#sk-container-id-3 div.sk-estimator:hover {background-color: #d4ebff;}#sk-container-id-3 div.sk-parallel-item::after {content: \"\";width: 100%;border-bottom: 1px solid gray;flex-grow: 1;}#sk-container-id-3 div.sk-label:hover label.sk-toggleable__label {background-color: #d4ebff;}#sk-container-id-3 div.sk-serial::before {content: \"\";position: absolute;border-left: 1px solid gray;box-sizing: border-box;top: 0;bottom: 0;left: 50%;z-index: 0;}#sk-container-id-3 div.sk-serial {display: flex;flex-direction: column;align-items: center;background-color: white;padding-right: 0.2em;padding-left: 0.2em;position: relative;}#sk-container-id-3 div.sk-item {position: relative;z-index: 1;}#sk-container-id-3 div.sk-parallel {display: flex;align-items: stretch;justify-content: center;background-color: white;position: relative;}#sk-container-id-3 div.sk-item::before, #sk-container-id-3 div.sk-parallel-item::before {content: \"\";position: absolute;border-left: 1px solid gray;box-sizing: border-box;top: 0;bottom: 0;left: 50%;z-index: -1;}#sk-container-id-3 div.sk-parallel-item {display: flex;flex-direction: column;z-index: 1;position: relative;background-color: white;}#sk-container-id-3 div.sk-parallel-item:first-child::after {align-self: flex-end;width: 50%;}#sk-container-id-3 div.sk-parallel-item:last-child::after {align-self: flex-start;width: 50%;}#sk-container-id-3 div.sk-parallel-item:only-child::after {width: 0;}#sk-container-id-3 div.sk-dashed-wrapped {border: 1px dashed gray;margin: 0 0.4em 0.5em 0.4em;box-sizing: border-box;padding-bottom: 0.4em;background-color: white;}#sk-container-id-3 div.sk-label label {font-family: monospace;font-weight: bold;display: inline-block;line-height: 1.2em;}#sk-container-id-3 div.sk-label-container {text-align: center;}#sk-container-id-3 div.sk-container {/* jupyter's `normalize.less` sets `[hidden] { display: none; }` but bootstrap.min.css set `[hidden] { display: none !important; }` so we also need the `!important` here to be able to override the default hidden behavior on the sphinx rendered scikit-learn.org. See: https://github.com/scikit-learn/scikit-learn/issues/21755 */display: inline-block !important;position: relative;}#sk-container-id-3 div.sk-text-repr-fallback {display: none;}</style><div id=\"sk-container-id-3\" class=\"sk-top-container\"><div class=\"sk-text-repr-fallback\"><pre>LogisticRegression(max_iter=1000)</pre><b>In a Jupyter environment, please rerun this cell to show the HTML representation or trust the notebook. <br />On GitHub, the HTML representation is unable to render, please try loading this page with nbviewer.org.</b></div><div class=\"sk-container\" hidden><div class=\"sk-item\"><div class=\"sk-estimator sk-toggleable\"><input class=\"sk-toggleable__control sk-hidden--visually\" id=\"sk-estimator-id-3\" type=\"checkbox\" checked><label for=\"sk-estimator-id-3\" class=\"sk-toggleable__label sk-toggleable__label-arrow\">LogisticRegression</label><div class=\"sk-toggleable__content\"><pre>LogisticRegression(max_iter=1000)</pre></div></div></div></div></div>"
            ]
          },
          "metadata": {},
          "execution_count": 26
        }
      ]
    },
    {
      "cell_type": "markdown",
      "source": [
        "Prediction"
      ],
      "metadata": {
        "id": "u1xy4MnnB9eV"
      }
    },
    {
      "cell_type": "code",
      "source": [
        "y_pred_LR = model_LR.predict(X_test)"
      ],
      "metadata": {
        "id": "z2QqwEJfB_DA"
      },
      "execution_count": 27,
      "outputs": []
    },
    {
      "cell_type": "markdown",
      "source": [
        "Evaluation"
      ],
      "metadata": {
        "id": "ZXXeBZ0NCeSs"
      }
    },
    {
      "cell_type": "code",
      "source": [
        "print(f\"Accuracy: {accuracy_score(y_test, y_pred_LR)}\")\n",
        "print(classification_report(y_test, y_pred_LR))"
      ],
      "metadata": {
        "colab": {
          "base_uri": "https://localhost:8080/"
        },
        "id": "H-73_zJoCff-",
        "outputId": "fd8ec48d-c9c9-4259-b864-4eb1bf4476cd"
      },
      "execution_count": 28,
      "outputs": [
        {
          "output_type": "stream",
          "name": "stdout",
          "text": [
            "Accuracy: 0.9025\n",
            "              precision    recall  f1-score   support\n",
            "\n",
            "    negative       0.91      0.89      0.90      5000\n",
            "    positive       0.90      0.91      0.90      5000\n",
            "\n",
            "    accuracy                           0.90     10000\n",
            "   macro avg       0.90      0.90      0.90     10000\n",
            "weighted avg       0.90      0.90      0.90     10000\n",
            "\n"
          ]
        }
      ]
    },
    {
      "cell_type": "markdown",
      "source": [
        "Cross-Validation"
      ],
      "metadata": {
        "id": "0jPpnmW4Ct0M"
      }
    },
    {
      "cell_type": "code",
      "source": [
        "skf_LR = StratifiedKFold(n_splits=5, shuffle=True, random_state=42)\n",
        "cv_scores_LR = cross_val_score(model_LR, X_tfidf, y, cv=skf_LR, scoring='accuracy')"
      ],
      "metadata": {
        "id": "PfNAUrjJCwSW"
      },
      "execution_count": 29,
      "outputs": []
    },
    {
      "cell_type": "code",
      "source": [
        "print(f\"Cross-validation accuracy scores: {cv_scores_LR}\")\n",
        "print(f\"Mean cross-validation accuracy: {cv_scores_LR.mean()}\")"
      ],
      "metadata": {
        "colab": {
          "base_uri": "https://localhost:8080/"
        },
        "id": "Zx65w1izDrPm",
        "outputId": "eb348df5-1d47-4fa9-de98-2728ce7b4660"
      },
      "execution_count": 30,
      "outputs": [
        {
          "output_type": "stream",
          "name": "stdout",
          "text": [
            "Cross-validation accuracy scores: [0.8988 0.9007 0.8976 0.8949 0.898 ]\n",
            "Mean cross-validation accuracy: 0.8979999999999999\n"
          ]
        }
      ]
    },
    {
      "cell_type": "markdown",
      "source": [
        "Verify that model is not overfitting by comparing training and test accuracy."
      ],
      "metadata": {
        "id": "YbONpXFyFM2D"
      }
    },
    {
      "cell_type": "code",
      "source": [
        "train_accuracy = model_LR.score(X_train, y_train)\n",
        "test_accuracy = model_LR.score(X_test, y_test)\n",
        "print(f\"Training Accuracy: {train_accuracy}\")\n",
        "print(f\"Test Accuracy: {test_accuracy}\")"
      ],
      "metadata": {
        "colab": {
          "base_uri": "https://localhost:8080/"
        },
        "id": "VpZPNl1MGo4G",
        "outputId": "19a40a8e-9ca8-42ba-a1aa-2dec7c410859"
      },
      "execution_count": 31,
      "outputs": [
        {
          "output_type": "stream",
          "name": "stdout",
          "text": [
            "Training Accuracy: 0.934725\n",
            "Test Accuracy: 0.9025\n"
          ]
        }
      ]
    },
    {
      "cell_type": "markdown",
      "source": [
        "Model: Support Vector Classifier"
      ],
      "metadata": {
        "id": "owaMynY6M74a"
      }
    },
    {
      "cell_type": "code",
      "source": [
        "model_SVC = SVC(C=0.1, kernel='linear')\n",
        "model_SVC.fit(X_train, y_train)"
      ],
      "metadata": {
        "colab": {
          "base_uri": "https://localhost:8080/",
          "height": 75
        },
        "id": "5Knl5wQEM9lx",
        "outputId": "50196883-6dfa-4edf-a85a-a4a44c27baac"
      },
      "execution_count": 36,
      "outputs": [
        {
          "output_type": "execute_result",
          "data": {
            "text/plain": [
              "SVC(C=0.1, kernel='linear')"
            ],
            "text/html": [
              "<style>#sk-container-id-5 {color: black;}#sk-container-id-5 pre{padding: 0;}#sk-container-id-5 div.sk-toggleable {background-color: white;}#sk-container-id-5 label.sk-toggleable__label {cursor: pointer;display: block;width: 100%;margin-bottom: 0;padding: 0.3em;box-sizing: border-box;text-align: center;}#sk-container-id-5 label.sk-toggleable__label-arrow:before {content: \"▸\";float: left;margin-right: 0.25em;color: #696969;}#sk-container-id-5 label.sk-toggleable__label-arrow:hover:before {color: black;}#sk-container-id-5 div.sk-estimator:hover label.sk-toggleable__label-arrow:before {color: black;}#sk-container-id-5 div.sk-toggleable__content {max-height: 0;max-width: 0;overflow: hidden;text-align: left;background-color: #f0f8ff;}#sk-container-id-5 div.sk-toggleable__content pre {margin: 0.2em;color: black;border-radius: 0.25em;background-color: #f0f8ff;}#sk-container-id-5 input.sk-toggleable__control:checked~div.sk-toggleable__content {max-height: 200px;max-width: 100%;overflow: auto;}#sk-container-id-5 input.sk-toggleable__control:checked~label.sk-toggleable__label-arrow:before {content: \"▾\";}#sk-container-id-5 div.sk-estimator input.sk-toggleable__control:checked~label.sk-toggleable__label {background-color: #d4ebff;}#sk-container-id-5 div.sk-label input.sk-toggleable__control:checked~label.sk-toggleable__label {background-color: #d4ebff;}#sk-container-id-5 input.sk-hidden--visually {border: 0;clip: rect(1px 1px 1px 1px);clip: rect(1px, 1px, 1px, 1px);height: 1px;margin: -1px;overflow: hidden;padding: 0;position: absolute;width: 1px;}#sk-container-id-5 div.sk-estimator {font-family: monospace;background-color: #f0f8ff;border: 1px dotted black;border-radius: 0.25em;box-sizing: border-box;margin-bottom: 0.5em;}#sk-container-id-5 div.sk-estimator:hover {background-color: #d4ebff;}#sk-container-id-5 div.sk-parallel-item::after {content: \"\";width: 100%;border-bottom: 1px solid gray;flex-grow: 1;}#sk-container-id-5 div.sk-label:hover label.sk-toggleable__label {background-color: #d4ebff;}#sk-container-id-5 div.sk-serial::before {content: \"\";position: absolute;border-left: 1px solid gray;box-sizing: border-box;top: 0;bottom: 0;left: 50%;z-index: 0;}#sk-container-id-5 div.sk-serial {display: flex;flex-direction: column;align-items: center;background-color: white;padding-right: 0.2em;padding-left: 0.2em;position: relative;}#sk-container-id-5 div.sk-item {position: relative;z-index: 1;}#sk-container-id-5 div.sk-parallel {display: flex;align-items: stretch;justify-content: center;background-color: white;position: relative;}#sk-container-id-5 div.sk-item::before, #sk-container-id-5 div.sk-parallel-item::before {content: \"\";position: absolute;border-left: 1px solid gray;box-sizing: border-box;top: 0;bottom: 0;left: 50%;z-index: -1;}#sk-container-id-5 div.sk-parallel-item {display: flex;flex-direction: column;z-index: 1;position: relative;background-color: white;}#sk-container-id-5 div.sk-parallel-item:first-child::after {align-self: flex-end;width: 50%;}#sk-container-id-5 div.sk-parallel-item:last-child::after {align-self: flex-start;width: 50%;}#sk-container-id-5 div.sk-parallel-item:only-child::after {width: 0;}#sk-container-id-5 div.sk-dashed-wrapped {border: 1px dashed gray;margin: 0 0.4em 0.5em 0.4em;box-sizing: border-box;padding-bottom: 0.4em;background-color: white;}#sk-container-id-5 div.sk-label label {font-family: monospace;font-weight: bold;display: inline-block;line-height: 1.2em;}#sk-container-id-5 div.sk-label-container {text-align: center;}#sk-container-id-5 div.sk-container {/* jupyter's `normalize.less` sets `[hidden] { display: none; }` but bootstrap.min.css set `[hidden] { display: none !important; }` so we also need the `!important` here to be able to override the default hidden behavior on the sphinx rendered scikit-learn.org. See: https://github.com/scikit-learn/scikit-learn/issues/21755 */display: inline-block !important;position: relative;}#sk-container-id-5 div.sk-text-repr-fallback {display: none;}</style><div id=\"sk-container-id-5\" class=\"sk-top-container\"><div class=\"sk-text-repr-fallback\"><pre>SVC(C=0.1, kernel=&#x27;linear&#x27;)</pre><b>In a Jupyter environment, please rerun this cell to show the HTML representation or trust the notebook. <br />On GitHub, the HTML representation is unable to render, please try loading this page with nbviewer.org.</b></div><div class=\"sk-container\" hidden><div class=\"sk-item\"><div class=\"sk-estimator sk-toggleable\"><input class=\"sk-toggleable__control sk-hidden--visually\" id=\"sk-estimator-id-5\" type=\"checkbox\" checked><label for=\"sk-estimator-id-5\" class=\"sk-toggleable__label sk-toggleable__label-arrow\">SVC</label><div class=\"sk-toggleable__content\"><pre>SVC(C=0.1, kernel=&#x27;linear&#x27;)</pre></div></div></div></div></div>"
            ]
          },
          "metadata": {},
          "execution_count": 36
        }
      ]
    },
    {
      "cell_type": "markdown",
      "source": [
        "Prediction"
      ],
      "metadata": {
        "id": "fJMCeOtfN5Sr"
      }
    },
    {
      "cell_type": "code",
      "source": [
        "y_pred_SVC = model_SVC.predict(X_test)"
      ],
      "metadata": {
        "id": "3_d8rreON8Xl"
      },
      "execution_count": 37,
      "outputs": []
    },
    {
      "cell_type": "markdown",
      "source": [
        "Evaluation"
      ],
      "metadata": {
        "id": "MgSYFGr5ebC8"
      }
    },
    {
      "cell_type": "code",
      "source": [
        "print(f\"Accuracy: {accuracy_score(y_test, y_pred_SVC)}\")\n",
        "print(classification_report(y_test, y_pred_SVC))"
      ],
      "metadata": {
        "colab": {
          "base_uri": "https://localhost:8080/"
        },
        "id": "ORxoD3OnecEV",
        "outputId": "b180a4a9-462c-4729-bc32-d9e7c6ee96e2"
      },
      "execution_count": 38,
      "outputs": [
        {
          "output_type": "stream",
          "name": "stdout",
          "text": [
            "Accuracy: 0.888\n",
            "              precision    recall  f1-score   support\n",
            "\n",
            "    negative       0.91      0.86      0.89      5000\n",
            "    positive       0.87      0.91      0.89      5000\n",
            "\n",
            "    accuracy                           0.89     10000\n",
            "   macro avg       0.89      0.89      0.89     10000\n",
            "weighted avg       0.89      0.89      0.89     10000\n",
            "\n"
          ]
        }
      ]
    },
    {
      "cell_type": "markdown",
      "source": [
        "Cross-Validation"
      ],
      "metadata": {
        "id": "4Df-IRnkemCP"
      }
    },
    {
      "cell_type": "code",
      "source": [
        "skf_SVC = StratifiedKFold(n_splits=5, shuffle=True, random_state=42)\n",
        "cv_scores_SVC = cross_val_score(model_SVC, X_tfidf, y, cv=skf_SVC, scoring='accuracy')"
      ],
      "metadata": {
        "id": "kM9C9ITgeuTA"
      },
      "execution_count": null,
      "outputs": []
    },
    {
      "cell_type": "code",
      "source": [
        "print(f\"Cross-validation accuracy scores: {cv_scores_SVC}\")\n",
        "print(f\"Mean cross-validation accuracy: {cv_scores_SVC.mean()}\")"
      ],
      "metadata": {
        "id": "GIVMslwqe4oZ"
      },
      "execution_count": null,
      "outputs": []
    },
    {
      "cell_type": "code",
      "source": [
        "train_accuracy_SVC = model_SVC.score(X_train, y_train)\n",
        "test_accuracy_SVC = model_SVC.score(X_test, y_test)\n",
        "print(f\"Training Accuracy: {train_accuracy_SVC}\")\n",
        "print(f\"Test Accuracy: {test_accuracy_SVC}\")"
      ],
      "metadata": {
        "id": "YXET2DoyqIHn",
        "colab": {
          "base_uri": "https://localhost:8080/"
        },
        "outputId": "25a2ac8f-f17d-4768-e2a7-edc6d17e9b6c"
      },
      "execution_count": 39,
      "outputs": [
        {
          "output_type": "stream",
          "name": "stdout",
          "text": [
            "Training Accuracy: 0.906525\n",
            "Test Accuracy: 0.888\n"
          ]
        }
      ]
    },
    {
      "cell_type": "markdown",
      "source": [
        "Before applying Tune Regularization Parameter( it shows overfitting ):"
      ],
      "metadata": {
        "id": "e8zw1Kr8-Cc0"
      }
    },
    {
      "cell_type": "markdown",
      "source": [
        "![importantly.png](data:image/png;base64,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)"
      ],
      "metadata": {
        "id": "Dg11QIzD-P2V"
      }
    },
    {
      "cell_type": "markdown",
      "source": [
        "# Saving model and TF-IDF Vectorizer"
      ],
      "metadata": {
        "id": "GHaYVnq9JyTB"
      }
    },
    {
      "cell_type": "code",
      "source": [
        "import joblib\n",
        "\n",
        "joblib.dump(model_LR, 'sentiment_model.pkl')\n",
        "\n",
        "joblib.dump(tfidf, 'tfidf_vectorizer.pkl')"
      ],
      "metadata": {
        "colab": {
          "base_uri": "https://localhost:8080/"
        },
        "id": "BE-_sfNFKNfS",
        "outputId": "693711d1-9a8d-4761-9ead-a042203c9a7a"
      },
      "execution_count": null,
      "outputs": [
        {
          "output_type": "execute_result",
          "data": {
            "text/plain": [
              "['tfidf_vectorizer.pkl']"
            ]
          },
          "metadata": {},
          "execution_count": 38
        }
      ]
    }
  ]
}